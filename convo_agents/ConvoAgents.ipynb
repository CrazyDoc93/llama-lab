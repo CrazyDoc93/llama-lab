{
 "cells": [
  {
   "cell_type": "code",
   "execution_count": 1,
   "id": "b6d25ba0-18f8-41e2-ba3a-62998051e87f",
   "metadata": {
    "tags": []
   },
   "outputs": [
    {
     "name": "stderr",
     "output_type": "stream",
     "text": [
      "/Users/jerryliu/Programming/llama-lab/convo_agents/.venv/lib/python3.10/site-packages/tqdm/auto.py:21: TqdmWarning: IProgress not found. Please update jupyter and ipywidgets. See https://ipywidgets.readthedocs.io/en/stable/user_install.html\n",
      "  from .autonotebook import tqdm as notebook_tqdm\n"
     ]
    }
   ],
   "source": [
    "import logging\n",
    "import sys\n",
    "\n",
    "logging.basicConfig(stream=sys.stdout, level=logging.CRITICAL)\n",
    "logging.getLogger().addHandler(logging.StreamHandler(stream=sys.stdout))\n",
    "logger = logging.getLogger()\n",
    "logger.disabled = True\n",
    "\n",
    "from convo_agents import ConvoAgent, run_conversation_loop\n",
    "from llama_index import LLMPredictor, ServiceContext, GPTListIndex\n",
    "from langchain.chat_models import ChatOpenAI"
   ]
  },
  {
   "cell_type": "code",
   "execution_count": 2,
   "id": "00a03b81-6b7d-4083-b1ba-6adcbccbb0c7",
   "metadata": {
    "tags": []
   },
   "outputs": [],
   "source": [
    "# llm_predictor = LLMPredictor(llm=ChatOpenAI(temperature=0, model_name=\"gpt-3.5-turbo\"))\n",
    "llm_predictor = LLMPredictor(llm=ChatOpenAI(temperature=0, model_name=\"gpt4\"))\n",
    "service_context = ServiceContext.from_defaults(llm_predictor=llm_predictor)"
   ]
  },
  {
   "cell_type": "markdown",
   "id": "16ab0602-a656-4a78-89dd-a8ef89eb8daf",
   "metadata": {},
   "source": [
    "## Casual Date Conversation"
   ]
  },
  {
   "cell_type": "code",
   "execution_count": 3,
   "id": "4c6794c5-3ca5-4bda-9e75-237ce356991c",
   "metadata": {
    "tags": []
   },
   "outputs": [],
   "source": [
    "alice_user_prefix_tmpl = (\n",
    "    \"Your name is {name}. \"\n",
    "    \"You are on a first date with another person named Bob. \"\n",
    "    \"We provide conversation context between you and Bob below. \"\n",
    ")\n",
    "bob_user_prefix_tmpl = (\n",
    "    \"Your name is {name}. \"\n",
    "    \"You are on a first date with another person named Alice. \"\n",
    "    \"We provide conversation context between you and Alice below. \"\n",
    ")\n",
    "alice = ConvoAgent.from_defaults(\n",
    "    name=\"Alice\", \n",
    "    service_context=service_context, \n",
    "    user_prefix_tmpl=alice_user_prefix_tmpl,\n",
    "    lt_memory=GPTListIndex([])\n",
    "    \n",
    ")\n",
    "bob = ConvoAgent.from_defaults(\n",
    "    name=\"Bob\", \n",
    "    service_context=service_context,\n",
    "    user_prefix_tmpl=bob_user_prefix_tmpl,\n",
    "    lt_memory=GPTListIndex([])\n",
    ")"
   ]
  },
  {
   "cell_type": "code",
   "execution_count": 4,
   "id": "81791984-738c-4332-8e00-479d10434399",
   "metadata": {
    "tags": []
   },
   "outputs": [
    {
     "name": "stdout",
     "output_type": "stream",
     "text": [
      "Alice:  Nice to meet you, Bob!\n",
      "Bob:  Nice to meet you too, Alice!\n",
      "Alice:  So, what do you like to do for fun?\n",
      "Bob:  I enjoy spending time outdoors, going for hikes, playing sports, and exploring new places. I also like to spend time with friends and family, playing board games, watching movies, and cooking.\n",
      "Alice:  Wow, that sounds like a lot of fun! What's your favorite activity to do with friends and family?\n",
      "Bob:  My favorite activity to do with friends and family is definitely playing board games. We always have a great time and lots of laughs!\n",
      "Alice:  That sounds like a great way to bond and have fun! What's your favorite board game to play?\n",
      "Bob:  My favorite board game to play is Monopoly. I love the strategy involved and the competition between players.\n",
      "Alice:  That sounds like a lot of fun! Have you ever won a game of Monopoly?\n",
      "Bob:  Yes, I have won a few games of Monopoly! It's always a great feeling when you come out on top.\n",
      "Alice:  That must be a great feeling! What strategies do you use when playing Monopoly?\n",
      "Bob:  When playing Monopoly, I like to focus on building up my properties and collecting rent. I also try to stay aware of what other players are doing and adjust my strategy accordingly.\n",
      "Alice:  That sounds like a great strategy! Do you have any tips for other players who are just starting out with Monopoly?\n",
      "Bob:  Sure! My biggest tip for new players is to focus on building up their properties and collecting rent. That way, they can start to accumulate money and build a strong foundation for their game.\n",
      "Alice:  That's great advice! Do you have any other tips for new players?\n",
      "Bob:  Another tip for new players is to try to stay aware of what other players are doing and adjust their strategy accordingly. That way, they can stay one step ahead of their opponents.\n"
     ]
    },
    {
     "name": "stderr",
     "output_type": "stream",
     "text": [
      "\n",
      "KeyboardInterrupt\n",
      "\n"
     ]
    }
   ],
   "source": [
    "run_conversation_loop(alice, bob)"
   ]
  },
  {
   "cell_type": "markdown",
   "id": "2064a38b-82c0-4dab-8886-eeb2fe357ad3",
   "metadata": {},
   "source": [
    "## Doctor Conversation"
   ]
  },
  {
   "cell_type": "code",
   "execution_count": 5,
   "id": "86169549-0b98-4d09-adc5-e6a8ffb19c31",
   "metadata": {
    "tags": []
   },
   "outputs": [],
   "source": [
    "alice_user_prefix_tmpl = (\n",
    "    \"Your name is {name}. \"\n",
    "    \"You are a patient who is seeing the doctor, and are getting the results of a blood pressure checkup. \"\n",
    "    \"We provide conversation context between you and the doctor below. \"\n",
    "\n",
    ")\n",
    "bob_user_prefix_tmpl = (\n",
    "    \"Your name is {name}. \"\n",
    "    \"You are a doctor; you are describing the results of a blood pressure test to the patient. \"\n",
    "    \"We provide conversation context between you and the patient below. \"\n",
    ")\n",
    "alice = ConvoAgent.from_defaults(\n",
    "    name=\"Alice\", \n",
    "    service_context=service_context, \n",
    "    user_prefix_tmpl=alice_user_prefix_tmpl,\n",
    "    lt_memory=GPTListIndex([])\n",
    ")\n",
    "bob = ConvoAgent.from_defaults(\n",
    "    name=\"Bob\", \n",
    "    service_context=service_context,\n",
    "    user_prefix_tmpl=bob_user_prefix_tmpl,\n",
    "    lt_memory=GPTListIndex([])\n",
    ")"
   ]
  },
  {
   "cell_type": "code",
   "execution_count": null,
   "id": "a2a3d69c-4470-43d0-95da-45f6670e3cef",
   "metadata": {
    "tags": []
   },
   "outputs": [],
   "source": [
    "run_conversation_loop(\n",
    "    alice, \n",
    "    bob,\n",
    "    \"So, you're telling me that my blood pressure is too high?\",\n",
    "    \"Yes\"\n",
    ")"
   ]
  },
  {
   "cell_type": "markdown",
   "id": "6dea734b-3324-4143-9026-6a170833ddcb",
   "metadata": {},
   "source": [
    "## Programming Interview Question"
   ]
  },
  {
   "cell_type": "code",
   "execution_count": 10,
   "id": "0debff8a-812a-4619-970c-d05aa56ffd9b",
   "metadata": {
    "tags": []
   },
   "outputs": [],
   "source": [
    "alice_user_prefix_tmpl = (\n",
    "    \"Your name is {name}. \"\n",
    "    \"You are interviewing for a software engineering job at Google, and you are speaking to the interviewer. \"\n",
    "    \"We provide conversation context between you and the interviewer below. \"\n",
    "    \"You want to ask fewer questions and get started on implementation sooner. \"\n",
    "\n",
    ")\n",
    "bob_user_prefix_tmpl = (\n",
    "    \"Your name is {name}. \"\n",
    "    \"You are an engineering manager at Google, and plan to ask technical interview questions to a candidate. \"\n",
    "    \"You want to ask the candidate to write code to perform binary search over a sorted list of numbers.  \"\n",
    "    \"If the candidate is implementing an incorrect solution, you want to critique their approach. \"\n",
    "    \"We provide conversation context between you and the interviewee below. \"\n",
    ")\n",
    "alice = ConvoAgent.from_defaults(\n",
    "    name=\"Alice\", \n",
    "    service_context=service_context, \n",
    "    user_prefix_tmpl=alice_user_prefix_tmpl,\n",
    "    lt_memory=GPTListIndex([])\n",
    ")\n",
    "bob = ConvoAgent.from_defaults(\n",
    "    name=\"Bob\", \n",
    "    service_context=service_context,\n",
    "    user_prefix_tmpl=bob_user_prefix_tmpl,\n",
    "    lt_memory=GPTListIndex([])\n",
    ")"
   ]
  },
  {
   "cell_type": "code",
   "execution_count": null,
   "id": "9bf1133a-9934-413e-86dd-1e959080e33d",
   "metadata": {},
   "outputs": [],
   "source": [
    "run_conversation_loop(\n",
    "    alice,\n",
    "    bob,\n",
    "    \"I'm ready to begin.\",\n",
    "    \"Great, let's start with a simple programming question. \"\n",
    ")"
   ]
  }
 ],
 "metadata": {
  "kernelspec": {
   "display_name": "convo_agents",
   "language": "python",
   "name": "convo_agents"
  },
  "language_info": {
   "codemirror_mode": {
    "name": "ipython",
    "version": 3
   },
   "file_extension": ".py",
   "mimetype": "text/x-python",
   "name": "python",
   "nbconvert_exporter": "python",
   "pygments_lexer": "ipython3",
   "version": "3.10.10"
  }
 },
 "nbformat": 4,
 "nbformat_minor": 5
}
